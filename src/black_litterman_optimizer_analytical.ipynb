{
 "cells": [
  {
   "cell_type": "code",
   "execution_count": 16,
   "metadata": {},
   "outputs": [],
   "source": [
    "import datetime as dt\n",
    "import pandas as pd\n",
    "import numpy as np\n",
    "import yfinance as yf\n",
    "from scipy import optimize as sc\n",
    "import seaborn as sns\n",
    "import matplotlib.pyplot as plt\n",
    "\n",
    "#plt.style.use('ggplot')\n",
    "sns.set_style(\"darkgrid\")\n",
    "plt.rc(\"figure\", figsize=(10, 8))\n",
    "plt.rc(\"savefig\", dpi=90)\n",
    "\n",
    "def download(tickers: list, years: int):\n",
    "    end_date = dt.datetime.now()\n",
    "    start_date = end_date - dt.timedelta(days= 365 * years)\n",
    "    mkt_data = yf.download(tickers, start= start_date, end= end_date, interval= '1d')['Adj Close']\n",
    "\n",
    "    shares_outstanding = {}\n",
    "\n",
    "    for ticker in tickers:\n",
    "        end_date = dt.datetime.now()\n",
    "        start_date = end_date - dt.timedelta(days= 365 * years)\n",
    "        shares = yf.Ticker(ticker).get_shares_full(start= (dt.datetime.now() - dt.timedelta(days= 3)), end= None)\n",
    "        shares_outstanding[ticker] = shares\n",
    "\n",
    "    shares_outstanding = pd.DataFrame([shares_outstanding])\n",
    "    return shares_outstanding, mkt_data\n",
    "\n",
    "shares_outstanding, mkt_data = download([\"SAMPO.HE\", \"ENENTO.HE\", \"KCR.HE\", \"GOFORE.HE\", \"NESTE.HE\", \"OMASP.HE\", \"QTCOM.HE\", \"REG1V.HE\", \"VALMT.HE\", \"ICP1V.HE\", \"METSO.HE\", \"KNEBV.HE\", \"NDA-FI.HE\"], 1)"
   ]
  },
  {
   "cell_type": "code",
   "execution_count": 17,
   "metadata": {},
   "outputs": [
    {
     "data": {
      "text/html": [
       "<div>\n",
       "<style scoped>\n",
       "    .dataframe tbody tr th:only-of-type {\n",
       "        vertical-align: middle;\n",
       "    }\n",
       "\n",
       "    .dataframe tbody tr th {\n",
       "        vertical-align: top;\n",
       "    }\n",
       "\n",
       "    .dataframe thead th {\n",
       "        text-align: right;\n",
       "    }\n",
       "</style>\n",
       "<table border=\"1\" class=\"dataframe\">\n",
       "  <thead>\n",
       "    <tr style=\"text-align: right;\">\n",
       "      <th></th>\n",
       "      <th>SAMPO.HE</th>\n",
       "      <th>ENENTO.HE</th>\n",
       "      <th>KCR.HE</th>\n",
       "      <th>GOFORE.HE</th>\n",
       "      <th>NESTE.HE</th>\n",
       "      <th>OMASP.HE</th>\n",
       "      <th>QTCOM.HE</th>\n",
       "      <th>REG1V.HE</th>\n",
       "      <th>VALMT.HE</th>\n",
       "      <th>ICP1V.HE</th>\n",
       "      <th>METSO.HE</th>\n",
       "      <th>KNEBV.HE</th>\n",
       "      <th>NDA-FI.HE</th>\n",
       "    </tr>\n",
       "  </thead>\n",
       "  <tbody>\n",
       "    <tr>\n",
       "      <th>0</th>\n",
       "      <td>2024-08-03 00:00:00+03:00    498312000\n",
       "2024-08...</td>\n",
       "      <td>2024-08-03 00:00:00+03:00    23669300\n",
       "2024-08-...</td>\n",
       "      <td>2024-08-03 00:00:00+03:00    79209104\n",
       "2024-08-...</td>\n",
       "      <td>2024-08-03 00:00:00+03:00    15636500\n",
       "2024-08-...</td>\n",
       "      <td>2024-08-03 00:00:00+03:00    768216000\n",
       "2024-08...</td>\n",
       "      <td>2024-08-03 00:00:00+03:00    33138600\n",
       "2024-08-...</td>\n",
       "      <td>2024-08-03 00:00:00+03:00    25391200\n",
       "2024-08-...</td>\n",
       "      <td>2024-08-06 00:00:00+03:00    27251100\n",
       "2024-08-...</td>\n",
       "      <td>2024-08-03 00:00:00+03:00    184168000\n",
       "2024-08...</td>\n",
       "      <td>2024-08-03 00:00:00+03:00    29437200\n",
       "2024-08-...</td>\n",
       "      <td>2024-08-06 00:00:00+03:00    827312000\n",
       "2024-08...</td>\n",
       "      <td>2024-08-03 00:00:00+03:00    517527008\n",
       "2024-08...</td>\n",
       "      <td>2024-08-06 00:00:00+03:00    3498990080\n",
       "2024-0...</td>\n",
       "    </tr>\n",
       "  </tbody>\n",
       "</table>\n",
       "</div>"
      ],
      "text/plain": [
       "                                            SAMPO.HE  \\\n",
       "0  2024-08-03 00:00:00+03:00    498312000\n",
       "2024-08...   \n",
       "\n",
       "                                           ENENTO.HE  \\\n",
       "0  2024-08-03 00:00:00+03:00    23669300\n",
       "2024-08-...   \n",
       "\n",
       "                                              KCR.HE  \\\n",
       "0  2024-08-03 00:00:00+03:00    79209104\n",
       "2024-08-...   \n",
       "\n",
       "                                           GOFORE.HE  \\\n",
       "0  2024-08-03 00:00:00+03:00    15636500\n",
       "2024-08-...   \n",
       "\n",
       "                                            NESTE.HE  \\\n",
       "0  2024-08-03 00:00:00+03:00    768216000\n",
       "2024-08...   \n",
       "\n",
       "                                            OMASP.HE  \\\n",
       "0  2024-08-03 00:00:00+03:00    33138600\n",
       "2024-08-...   \n",
       "\n",
       "                                            QTCOM.HE  \\\n",
       "0  2024-08-03 00:00:00+03:00    25391200\n",
       "2024-08-...   \n",
       "\n",
       "                                            REG1V.HE  \\\n",
       "0  2024-08-06 00:00:00+03:00    27251100\n",
       "2024-08-...   \n",
       "\n",
       "                                            VALMT.HE  \\\n",
       "0  2024-08-03 00:00:00+03:00    184168000\n",
       "2024-08...   \n",
       "\n",
       "                                            ICP1V.HE  \\\n",
       "0  2024-08-03 00:00:00+03:00    29437200\n",
       "2024-08-...   \n",
       "\n",
       "                                            METSO.HE  \\\n",
       "0  2024-08-06 00:00:00+03:00    827312000\n",
       "2024-08...   \n",
       "\n",
       "                                            KNEBV.HE  \\\n",
       "0  2024-08-03 00:00:00+03:00    517527008\n",
       "2024-08...   \n",
       "\n",
       "                                           NDA-FI.HE  \n",
       "0  2024-08-06 00:00:00+03:00    3498990080\n",
       "2024-0...  "
      ]
     },
     "execution_count": 17,
     "metadata": {},
     "output_type": "execute_result"
    }
   ],
   "source": [
    "shares_outstanding"
   ]
  },
  {
   "cell_type": "code",
   "execution_count": null,
   "metadata": {},
   "outputs": [],
   "source": []
  },
  {
   "cell_type": "code",
   "execution_count": 2,
   "metadata": {},
   "outputs": [],
   "source": [
    "def market_capitalization(shares_outstanding):\n",
    "    shares_outstanding = shares_outstanding.reindex(columns= mkt_data.columns[0:])\n",
    "    shares_outstanding.to_dict()\n",
    "    latest_price = mkt_data.iloc[-1].to_dict()\n",
    "    shares_outstanding = {key: value[0] for key, value in shares_outstanding.items()}\n",
    "    mkt_cap = {key: shares_outstanding[key] * latest_price[key] for key in shares_outstanding}\n",
    "    total_mkt_cap = sum(mkt_cap.values())\n",
    "    mkt_weights = {key: round(item / total_mkt_cap, 8) for key, item in mkt_cap.items()}\n",
    "    mkt_weights = pd.DataFrame([mkt_weights])\n",
    "    mkt_cap = pd.DataFrame([mkt_cap])\n",
    "\n",
    "    return mkt_weights, mkt_cap"
   ]
  },
  {
   "cell_type": "code",
   "execution_count": 3,
   "metadata": {},
   "outputs": [],
   "source": [
    "def annualized_portfolio_stdev(weights: np.ndarray, cov_matrix: pd.DataFrame, lambda_coeff):\n",
    "    portfolio_stdev = np.sqrt(weights.T @ cov_matrix @ weights)*np.sqrt(252)\n",
    "    l2_penalty = lambda_coeff * np.sum(weights**2)\n",
    "    return portfolio_stdev + l2_penalty\n",
    "\n",
    "def return_statistics(shares_outstanding, mkt_data, annual_rfr):\n",
    "    mkt_weights, mkt_cap = market_capitalization(shares_outstanding)\n",
    "    days = 365\n",
    "\n",
    "    mkt_returns = np.log(mkt_data/mkt_data.shift(1)).dropna()\n",
    "    daily_rfr = (1 + annual_rfr) ** (1 / days) - 1\n",
    "    excess_mkt_returns = mkt_returns.subtract(daily_rfr, axis= 0)\n",
    "    mkt_weights = mkt_weights.reindex(columns= excess_mkt_returns.columns[0:])\n",
    "    \n",
    "    weights_series = mkt_weights.loc[0]\n",
    "    weights_array = weights_series.values\n",
    "\n",
    "    #weighted_excess_returns = pd.DataFrame()\n",
    "    #for row in excess_mkt_returns:\n",
    "        #weighted_excess_returns[row] = excess_mkt_returns[row] * weights_series[row]\n",
    "    #global_excess_return = weighted_excess_returns.mean()\n",
    "\n",
    "    cov_matrix = excess_mkt_returns.cov() * 252\n",
    "    #market_var = annualized_portfolio_stdev(weights_array, cov_matrix, 0)\n",
    "    risk_aversion = 2.25\n",
    "\n",
    "    return risk_aversion, cov_matrix, weights_array, weights_series, mkt_cap, excess_mkt_returns\n",
    "\n",
    "risk_aversion, cov_matrix, weights_array, weights_series, mkt_cap, excess_mkt_returns = return_statistics(shares_outstanding, mkt_data, 0.03)"
   ]
  },
  {
   "cell_type": "code",
   "execution_count": 4,
   "metadata": {},
   "outputs": [
    {
     "data": {
      "text/plain": [
       "Ticker\n",
       "ENENTO.HE    0.013549\n",
       "GOFORE.HE    0.024616\n",
       "ICP1V.HE     0.036833\n",
       "KCR.HE       0.051071\n",
       "KNEBV.HE     0.040960\n",
       "METSO.HE     0.058485\n",
       "NDA-FI.HE    0.044642\n",
       "NESTE.HE     0.063311\n",
       "OMASP.HE     0.036169\n",
       "QTCOM.HE     0.052875\n",
       "REG1V.HE     0.033647\n",
       "SAMPO.HE     0.020205\n",
       "VALMT.HE     0.043857\n",
       "dtype: float64"
      ]
     },
     "execution_count": 4,
     "metadata": {},
     "output_type": "execute_result"
    }
   ],
   "source": [
    "def implied_equilibrium_returns(risk_aversion: float, cov_matrix: pd.DataFrame, weights_array: np.ndarray):\n",
    "    implied_equilibrium_returns = risk_aversion * cov_matrix.dot(weights_array).squeeze()\n",
    "    return implied_equilibrium_returns\n",
    "\n",
    "implied = implied_equilibrium_returns(risk_aversion, cov_matrix, weights_array)\n",
    "implied"
   ]
  },
  {
   "cell_type": "code",
   "execution_count": 5,
   "metadata": {},
   "outputs": [],
   "source": [
    "pd.set_option('display.float_format', '{:.6f}'.format)"
   ]
  },
  {
   "cell_type": "code",
   "execution_count": 6,
   "metadata": {},
   "outputs": [],
   "source": [
    "Q = np.array([0.05, 0.02, 0.01])\n",
    "P = np.asarray([[1, 0, 0, 0, 0, 0, 0, 0, 0, 0, 0, 0, 0],\n",
    "               [0, 0, 0, 0, 0, 0.98, 0, -0.02, 0, 0, 0, 0, 0],\n",
    "               [0, 0, 0, 0, 0, 0, 1, 0, 0, 0, 0, 0, 0]])"
   ]
  },
  {
   "cell_type": "code",
   "execution_count": 7,
   "metadata": {},
   "outputs": [],
   "source": [
    "def error_cov_matrix(cov_matrix, tau, P):\n",
    "    matrix = np.diag(np.diag(P.dot(tau * cov_matrix).dot(P.T)))\n",
    "    return matrix\n",
    "\n",
    "tau = 0.025\n",
    "omega = error_cov_matrix(cov_matrix, tau, P)"
   ]
  },
  {
   "cell_type": "code",
   "execution_count": 8,
   "metadata": {},
   "outputs": [
    {
     "data": {
      "text/plain": [
       "array([[0.00182171, 0.        , 0.        ],\n",
       "       [0.        , 0.00194604, 0.        ],\n",
       "       [0.        , 0.        , 0.00087657]])"
      ]
     },
     "execution_count": 8,
     "metadata": {},
     "output_type": "execute_result"
    }
   ],
   "source": [
    "omega"
   ]
  },
  {
   "cell_type": "code",
   "execution_count": 9,
   "metadata": {},
   "outputs": [],
   "source": [
    "from numpy import linalg as lin\n",
    "\n",
    "sigma_scaled = cov_matrix * tau\n",
    "BL_return_vector = implied + sigma_scaled.dot(P.T).dot(lin.inv(P.dot(sigma_scaled).dot(P.T) + omega).dot(Q - P.dot(implied)))"
   ]
  },
  {
   "cell_type": "code",
   "execution_count": 10,
   "metadata": {},
   "outputs": [
    {
     "data": {
      "text/html": [
       "<style type=\"text/css\">\n",
       "</style>\n",
       "<table id=\"T_8331f\">\n",
       "  <thead>\n",
       "    <tr>\n",
       "      <th class=\"blank level0\" >&nbsp;</th>\n",
       "      <th id=\"T_8331f_level0_col0\" class=\"col_heading level0 col0\" >Implied Returns</th>\n",
       "      <th id=\"T_8331f_level0_col1\" class=\"col_heading level0 col1\" >BL Return Vector</th>\n",
       "      <th id=\"T_8331f_level0_col2\" class=\"col_heading level0 col2\" >Difference</th>\n",
       "    </tr>\n",
       "    <tr>\n",
       "      <th class=\"index_name level0\" >Ticker</th>\n",
       "      <th class=\"blank col0\" >&nbsp;</th>\n",
       "      <th class=\"blank col1\" >&nbsp;</th>\n",
       "      <th class=\"blank col2\" >&nbsp;</th>\n",
       "    </tr>\n",
       "  </thead>\n",
       "  <tbody>\n",
       "    <tr>\n",
       "      <th id=\"T_8331f_level0_row0\" class=\"row_heading level0 row0\" >ENENTO.HE</th>\n",
       "      <td id=\"T_8331f_row0_col0\" class=\"data row0 col0\" >1.35%</td>\n",
       "      <td id=\"T_8331f_row0_col1\" class=\"data row0 col1\" >2.97%</td>\n",
       "      <td id=\"T_8331f_row0_col2\" class=\"data row0 col2\" >1.62%</td>\n",
       "    </tr>\n",
       "    <tr>\n",
       "      <th id=\"T_8331f_level0_row1\" class=\"row_heading level0 row1\" >GOFORE.HE</th>\n",
       "      <td id=\"T_8331f_row1_col0\" class=\"data row1 col0\" >2.46%</td>\n",
       "      <td id=\"T_8331f_row1_col1\" class=\"data row1 col1\" >1.78%</td>\n",
       "      <td id=\"T_8331f_row1_col2\" class=\"data row1 col2\" >-0.69%</td>\n",
       "    </tr>\n",
       "    <tr>\n",
       "      <th id=\"T_8331f_level0_row2\" class=\"row_heading level0 row2\" >ICP1V.HE</th>\n",
       "      <td id=\"T_8331f_row2_col0\" class=\"data row2 col0\" >3.68%</td>\n",
       "      <td id=\"T_8331f_row2_col1\" class=\"data row2 col1\" >2.93%</td>\n",
       "      <td id=\"T_8331f_row2_col2\" class=\"data row2 col2\" >-0.75%</td>\n",
       "    </tr>\n",
       "    <tr>\n",
       "      <th id=\"T_8331f_level0_row3\" class=\"row_heading level0 row3\" >KCR.HE</th>\n",
       "      <td id=\"T_8331f_row3_col0\" class=\"data row3 col0\" >5.11%</td>\n",
       "      <td id=\"T_8331f_row3_col1\" class=\"data row3 col1\" >3.84%</td>\n",
       "      <td id=\"T_8331f_row3_col2\" class=\"data row3 col2\" >-1.26%</td>\n",
       "    </tr>\n",
       "    <tr>\n",
       "      <th id=\"T_8331f_level0_row4\" class=\"row_heading level0 row4\" >KNEBV.HE</th>\n",
       "      <td id=\"T_8331f_row4_col0\" class=\"data row4 col0\" >4.10%</td>\n",
       "      <td id=\"T_8331f_row4_col1\" class=\"data row4 col1\" >3.38%</td>\n",
       "      <td id=\"T_8331f_row4_col2\" class=\"data row4 col2\" >-0.72%</td>\n",
       "    </tr>\n",
       "    <tr>\n",
       "      <th id=\"T_8331f_level0_row5\" class=\"row_heading level0 row5\" >METSO.HE</th>\n",
       "      <td id=\"T_8331f_row5_col0\" class=\"data row5 col0\" >5.85%</td>\n",
       "      <td id=\"T_8331f_row5_col1\" class=\"data row5 col1\" >3.64%</td>\n",
       "      <td id=\"T_8331f_row5_col2\" class=\"data row5 col2\" >-2.21%</td>\n",
       "    </tr>\n",
       "    <tr>\n",
       "      <th id=\"T_8331f_level0_row6\" class=\"row_heading level0 row6\" >NDA-FI.HE</th>\n",
       "      <td id=\"T_8331f_row6_col0\" class=\"data row6 col0\" >4.46%</td>\n",
       "      <td id=\"T_8331f_row6_col1\" class=\"data row6 col1\" >2.56%</td>\n",
       "      <td id=\"T_8331f_row6_col2\" class=\"data row6 col2\" >-1.90%</td>\n",
       "    </tr>\n",
       "    <tr>\n",
       "      <th id=\"T_8331f_level0_row7\" class=\"row_heading level0 row7\" >NESTE.HE</th>\n",
       "      <td id=\"T_8331f_row7_col0\" class=\"data row7 col0\" >6.33%</td>\n",
       "      <td id=\"T_8331f_row7_col1\" class=\"data row7 col1\" >5.52%</td>\n",
       "      <td id=\"T_8331f_row7_col2\" class=\"data row7 col2\" >-0.81%</td>\n",
       "    </tr>\n",
       "    <tr>\n",
       "      <th id=\"T_8331f_level0_row8\" class=\"row_heading level0 row8\" >OMASP.HE</th>\n",
       "      <td id=\"T_8331f_row8_col0\" class=\"data row8 col0\" >3.62%</td>\n",
       "      <td id=\"T_8331f_row8_col1\" class=\"data row8 col1\" >2.47%</td>\n",
       "      <td id=\"T_8331f_row8_col2\" class=\"data row8 col2\" >-1.15%</td>\n",
       "    </tr>\n",
       "    <tr>\n",
       "      <th id=\"T_8331f_level0_row9\" class=\"row_heading level0 row9\" >QTCOM.HE</th>\n",
       "      <td id=\"T_8331f_row9_col0\" class=\"data row9 col0\" >5.29%</td>\n",
       "      <td id=\"T_8331f_row9_col1\" class=\"data row9 col1\" >4.10%</td>\n",
       "      <td id=\"T_8331f_row9_col2\" class=\"data row9 col2\" >-1.19%</td>\n",
       "    </tr>\n",
       "    <tr>\n",
       "      <th id=\"T_8331f_level0_row10\" class=\"row_heading level0 row10\" >REG1V.HE</th>\n",
       "      <td id=\"T_8331f_row10_col0\" class=\"data row10 col0\" >3.36%</td>\n",
       "      <td id=\"T_8331f_row10_col1\" class=\"data row10 col1\" >2.90%</td>\n",
       "      <td id=\"T_8331f_row10_col2\" class=\"data row10 col2\" >-0.46%</td>\n",
       "    </tr>\n",
       "    <tr>\n",
       "      <th id=\"T_8331f_level0_row11\" class=\"row_heading level0 row11\" >SAMPO.HE</th>\n",
       "      <td id=\"T_8331f_row11_col0\" class=\"data row11 col0\" >2.02%</td>\n",
       "      <td id=\"T_8331f_row11_col1\" class=\"data row11 col1\" >1.57%</td>\n",
       "      <td id=\"T_8331f_row11_col2\" class=\"data row11 col2\" >-0.45%</td>\n",
       "    </tr>\n",
       "    <tr>\n",
       "      <th id=\"T_8331f_level0_row12\" class=\"row_heading level0 row12\" >VALMT.HE</th>\n",
       "      <td id=\"T_8331f_row12_col0\" class=\"data row12 col0\" >4.39%</td>\n",
       "      <td id=\"T_8331f_row12_col1\" class=\"data row12 col1\" >3.44%</td>\n",
       "      <td id=\"T_8331f_row12_col2\" class=\"data row12 col2\" >-0.95%</td>\n",
       "    </tr>\n",
       "  </tbody>\n",
       "</table>\n"
      ],
      "text/plain": [
       "<pandas.io.formats.style.Styler at 0x2631bb66290>"
      ]
     },
     "execution_count": 10,
     "metadata": {},
     "output_type": "execute_result"
    }
   ],
   "source": [
    "returns_table = pd.concat([implied, BL_return_vector], axis=1) * 100\n",
    "returns_table.columns = ['Implied Returns', 'BL Return Vector']\n",
    "returns_table['Difference'] = returns_table['BL Return Vector'] - returns_table['Implied Returns']\n",
    "returns_table.style.format('{:,.2f}%')"
   ]
  },
  {
   "cell_type": "code",
   "execution_count": 11,
   "metadata": {},
   "outputs": [],
   "source": [
    "inverse_cov = pd.DataFrame(lin.inv(cov_matrix.values), index=cov_matrix.columns, columns=cov_matrix.index)\n",
    "BL_weights_vector = inverse_cov.dot(BL_return_vector)\n",
    "BL_weights_vector = BL_weights_vector/sum(BL_weights_vector)"
   ]
  },
  {
   "cell_type": "code",
   "execution_count": 12,
   "metadata": {},
   "outputs": [
    {
     "data": {
      "text/plain": [
       "Ticker\n",
       "ENENTO.HE    0.150467\n",
       "GOFORE.HE    0.003563\n",
       "ICP1V.HE     0.003384\n",
       "KCR.HE       0.048241\n",
       "KNEBV.HE     0.252753\n",
       "METSO.HE    -0.022088\n",
       "NDA-FI.HE    0.139378\n",
       "NESTE.HE     0.143696\n",
       "OMASP.HE     0.004695\n",
       "QTCOM.HE     0.020316\n",
       "REG1V.HE     0.007739\n",
       "SAMPO.HE     0.201032\n",
       "VALMT.HE     0.046824\n",
       "dtype: float64"
      ]
     },
     "execution_count": 12,
     "metadata": {},
     "output_type": "execute_result"
    }
   ],
   "source": [
    "BL_weights_vector"
   ]
  },
  {
   "cell_type": "code",
   "execution_count": 13,
   "metadata": {},
   "outputs": [
    {
     "data": {
      "text/html": [
       "<style type=\"text/css\">\n",
       "</style>\n",
       "<table id=\"T_02156\">\n",
       "  <thead>\n",
       "    <tr>\n",
       "      <th class=\"blank level0\" >&nbsp;</th>\n",
       "      <th id=\"T_02156_level0_col0\" class=\"col_heading level0 col0\" >BL Weights</th>\n",
       "      <th id=\"T_02156_level0_col1\" class=\"col_heading level0 col1\" >Market Cap Weights</th>\n",
       "      <th id=\"T_02156_level0_col2\" class=\"col_heading level0 col2\" >Mean-Var Weights</th>\n",
       "      <th id=\"T_02156_level0_col3\" class=\"col_heading level0 col3\" >BL/Mkt Cap Diff</th>\n",
       "    </tr>\n",
       "    <tr>\n",
       "      <th class=\"index_name level0\" >Ticker</th>\n",
       "      <th class=\"blank col0\" >&nbsp;</th>\n",
       "      <th class=\"blank col1\" >&nbsp;</th>\n",
       "      <th class=\"blank col2\" >&nbsp;</th>\n",
       "      <th class=\"blank col3\" >&nbsp;</th>\n",
       "    </tr>\n",
       "  </thead>\n",
       "  <tbody>\n",
       "    <tr>\n",
       "      <th id=\"T_02156_level0_row0\" class=\"row_heading level0 row0\" >ENENTO.HE</th>\n",
       "      <td id=\"T_02156_row0_col0\" class=\"data row0 col0\" >15.05%</td>\n",
       "      <td id=\"T_02156_row0_col1\" class=\"data row0 col1\" >0.35%</td>\n",
       "      <td id=\"T_02156_row0_col2\" class=\"data row0 col2\" >348.17%</td>\n",
       "      <td id=\"T_02156_row0_col3\" class=\"data row0 col3\" >14.69%</td>\n",
       "    </tr>\n",
       "    <tr>\n",
       "      <th id=\"T_02156_level0_row1\" class=\"row_heading level0 row1\" >GOFORE.HE</th>\n",
       "      <td id=\"T_02156_row1_col0\" class=\"data row1 col0\" >0.36%</td>\n",
       "      <td id=\"T_02156_row1_col1\" class=\"data row1 col1\" >0.30%</td>\n",
       "      <td id=\"T_02156_row1_col2\" class=\"data row1 col2\" >-84.82%</td>\n",
       "      <td id=\"T_02156_row1_col3\" class=\"data row1 col3\" >0.05%</td>\n",
       "    </tr>\n",
       "    <tr>\n",
       "      <th id=\"T_02156_level0_row2\" class=\"row_heading level0 row2\" >ICP1V.HE</th>\n",
       "      <td id=\"T_02156_row2_col0\" class=\"data row2 col0\" >0.34%</td>\n",
       "      <td id=\"T_02156_row2_col1\" class=\"data row2 col1\" >0.29%</td>\n",
       "      <td id=\"T_02156_row2_col2\" class=\"data row2 col2\" >-31.99%</td>\n",
       "      <td id=\"T_02156_row2_col3\" class=\"data row2 col3\" >0.05%</td>\n",
       "    </tr>\n",
       "    <tr>\n",
       "      <th id=\"T_02156_level0_row3\" class=\"row_heading level0 row3\" >KCR.HE</th>\n",
       "      <td id=\"T_02156_row3_col0\" class=\"data row3 col0\" >4.82%</td>\n",
       "      <td id=\"T_02156_row3_col1\" class=\"data row3 col1\" >4.08%</td>\n",
       "      <td id=\"T_02156_row3_col2\" class=\"data row3 col2\" >-733.31%</td>\n",
       "      <td id=\"T_02156_row3_col3\" class=\"data row3 col3\" >0.74%</td>\n",
       "    </tr>\n",
       "    <tr>\n",
       "      <th id=\"T_02156_level0_row4\" class=\"row_heading level0 row4\" >KNEBV.HE</th>\n",
       "      <td id=\"T_02156_row4_col0\" class=\"data row4 col0\" >25.28%</td>\n",
       "      <td id=\"T_02156_row4_col1\" class=\"data row4 col1\" >21.38%</td>\n",
       "      <td id=\"T_02156_row4_col2\" class=\"data row4 col2\" >-68.56%</td>\n",
       "      <td id=\"T_02156_row4_col3\" class=\"data row4 col3\" >3.89%</td>\n",
       "    </tr>\n",
       "    <tr>\n",
       "      <th id=\"T_02156_level0_row5\" class=\"row_heading level0 row5\" >METSO.HE</th>\n",
       "      <td id=\"T_02156_row5_col0\" class=\"data row5 col0\" >-2.21%</td>\n",
       "      <td id=\"T_02156_row5_col1\" class=\"data row5 col1\" >6.26%</td>\n",
       "      <td id=\"T_02156_row5_col2\" class=\"data row5 col2\" >551.50%</td>\n",
       "      <td id=\"T_02156_row5_col3\" class=\"data row5 col3\" >-8.47%</td>\n",
       "    </tr>\n",
       "    <tr>\n",
       "      <th id=\"T_02156_level0_row6\" class=\"row_heading level0 row6\" >NDA-FI.HE</th>\n",
       "      <td id=\"T_02156_row6_col0\" class=\"data row6 col0\" >13.94%</td>\n",
       "      <td id=\"T_02156_row6_col1\" class=\"data row6 col1\" >31.61%</td>\n",
       "      <td id=\"T_02156_row6_col2\" class=\"data row6 col2\" >-266.78%</td>\n",
       "      <td id=\"T_02156_row6_col3\" class=\"data row6 col3\" >-17.68%</td>\n",
       "    </tr>\n",
       "    <tr>\n",
       "      <th id=\"T_02156_level0_row7\" class=\"row_heading level0 row7\" >NESTE.HE</th>\n",
       "      <td id=\"T_02156_row7_col0\" class=\"data row7 col0\" >14.37%</td>\n",
       "      <td id=\"T_02156_row7_col1\" class=\"data row7 col1\" >11.99%</td>\n",
       "      <td id=\"T_02156_row7_col2\" class=\"data row7 col2\" >304.67%</td>\n",
       "      <td id=\"T_02156_row7_col3\" class=\"data row7 col3\" >2.38%</td>\n",
       "    </tr>\n",
       "    <tr>\n",
       "      <th id=\"T_02156_level0_row8\" class=\"row_heading level0 row8\" >OMASP.HE</th>\n",
       "      <td id=\"T_02156_row8_col0\" class=\"data row8 col0\" >0.47%</td>\n",
       "      <td id=\"T_02156_row8_col1\" class=\"data row8 col1\" >0.40%</td>\n",
       "      <td id=\"T_02156_row8_col2\" class=\"data row8 col2\" >480.02%</td>\n",
       "      <td id=\"T_02156_row8_col3\" class=\"data row8 col3\" >0.07%</td>\n",
       "    </tr>\n",
       "    <tr>\n",
       "      <th id=\"T_02156_level0_row9\" class=\"row_heading level0 row9\" >QTCOM.HE</th>\n",
       "      <td id=\"T_02156_row9_col0\" class=\"data row9 col0\" >2.03%</td>\n",
       "      <td id=\"T_02156_row9_col1\" class=\"data row9 col1\" >1.72%</td>\n",
       "      <td id=\"T_02156_row9_col2\" class=\"data row9 col2\" >-87.26%</td>\n",
       "      <td id=\"T_02156_row9_col3\" class=\"data row9 col3\" >0.31%</td>\n",
       "    </tr>\n",
       "    <tr>\n",
       "      <th id=\"T_02156_level0_row10\" class=\"row_heading level0 row10\" >REG1V.HE</th>\n",
       "      <td id=\"T_02156_row10_col0\" class=\"data row10 col0\" >0.77%</td>\n",
       "      <td id=\"T_02156_row10_col1\" class=\"data row10 col1\" >0.65%</td>\n",
       "      <td id=\"T_02156_row10_col2\" class=\"data row10 col2\" >22.78%</td>\n",
       "      <td id=\"T_02156_row10_col3\" class=\"data row10 col3\" >0.12%</td>\n",
       "    </tr>\n",
       "    <tr>\n",
       "      <th id=\"T_02156_level0_row11\" class=\"row_heading level0 row11\" >SAMPO.HE</th>\n",
       "      <td id=\"T_02156_row11_col0\" class=\"data row11 col0\" >20.10%</td>\n",
       "      <td id=\"T_02156_row11_col1\" class=\"data row11 col1\" >17.01%</td>\n",
       "      <td id=\"T_02156_row11_col2\" class=\"data row11 col2\" >-117.70%</td>\n",
       "      <td id=\"T_02156_row11_col3\" class=\"data row11 col3\" >3.10%</td>\n",
       "    </tr>\n",
       "    <tr>\n",
       "      <th id=\"T_02156_level0_row12\" class=\"row_heading level0 row12\" >VALMT.HE</th>\n",
       "      <td id=\"T_02156_row12_col0\" class=\"data row12 col0\" >4.68%</td>\n",
       "      <td id=\"T_02156_row12_col1\" class=\"data row12 col1\" >3.96%</td>\n",
       "      <td id=\"T_02156_row12_col2\" class=\"data row12 col2\" >-216.70%</td>\n",
       "      <td id=\"T_02156_row12_col3\" class=\"data row12 col3\" >0.72%</td>\n",
       "    </tr>\n",
       "  </tbody>\n",
       "</table>\n"
      ],
      "text/plain": [
       "<pandas.io.formats.style.Styler at 0x2631b6b9ea0>"
      ]
     },
     "execution_count": 13,
     "metadata": {},
     "output_type": "execute_result"
    }
   ],
   "source": [
    "# Calculate mean-variance optimised weights\n",
    "MV_weights_vector = inverse_cov.dot(excess_mkt_returns.mean())\n",
    "MV_weights_vector = MV_weights_vector/sum(MV_weights_vector)\n",
    "weights_table = pd.concat([BL_weights_vector, weights_series, MV_weights_vector], axis=1) * 100\n",
    "weights_table.columns = ['BL Weights', 'Market Cap Weights', 'Mean-Var Weights']\n",
    "weights_table['BL/Mkt Cap Diff'] = weights_table['BL Weights'] - weights_table['Market Cap Weights']\n",
    "weights_table.style.format('{:,.2f}%')"
   ]
  },
  {
   "cell_type": "code",
   "execution_count": 17,
   "metadata": {},
   "outputs": [
    {
     "name": "stderr",
     "output_type": "stream",
     "text": [
      "[*********************100%%**********************]  1 of 1 completed\n"
     ]
    },
    {
     "data": {
      "text/plain": [
       "Date\n",
       "2023-08-08    0.004055\n",
       "2023-08-09    0.013399\n",
       "2023-08-10    0.007073\n",
       "2023-08-11   -0.011520\n",
       "2023-08-14   -0.008503\n",
       "                ...   \n",
       "2024-07-31   -0.000525\n",
       "2024-08-01   -0.018539\n",
       "2024-08-02   -0.066304\n",
       "2024-08-05   -0.019323\n",
       "2024-08-06   -0.001749\n",
       "Name: Adj Close, Length: 252, dtype: float64"
      ]
     },
     "execution_count": 17,
     "metadata": {},
     "output_type": "execute_result"
    }
   ],
   "source": [
    "import datetime as dt\n",
    "import yfinance as yf\n",
    "import pandas as pd\n",
    "import numpy as np\n",
    "\n",
    "end_date = dt.datetime.now()\n",
    "start_date = end_date - dt.timedelta(days= 365 * 1)\n",
    "data = yf.download('WRT1V.HE', start= start_date, end= end_date, interval= '1d')['Adj Close']\n",
    "\n",
    "returns = np.log(data/data.shift(1)).dropna()\n",
    "returns"
   ]
  },
  {
   "cell_type": "code",
   "execution_count": 24,
   "metadata": {},
   "outputs": [
    {
     "data": {
      "text/plain": [
       "1.466185050910626"
      ]
     },
     "execution_count": 24,
     "metadata": {},
     "output_type": "execute_result"
    }
   ],
   "source": [
    "(returns.mean()* 252 *  100 - 3) / (returns.std() * np.sqrt(252) * 100)"
   ]
  },
  {
   "cell_type": "code",
   "execution_count": 21,
   "metadata": {},
   "outputs": [
    {
     "data": {
      "text/plain": [
       "29.29775228612641"
      ]
     },
     "execution_count": 21,
     "metadata": {},
     "output_type": "execute_result"
    }
   ],
   "source": []
  },
  {
   "cell_type": "code",
   "execution_count": 16,
   "metadata": {},
   "outputs": [
    {
     "data": {
      "text/plain": [
       "0.3549607392324452"
      ]
     },
     "execution_count": 16,
     "metadata": {},
     "output_type": "execute_result"
    }
   ],
   "source": [
    "6.64131543103905 / 18.71"
   ]
  },
  {
   "cell_type": "code",
   "execution_count": null,
   "metadata": {},
   "outputs": [],
   "source": []
  }
 ],
 "metadata": {
  "kernelspec": {
   "display_name": "base",
   "language": "python",
   "name": "python3"
  },
  "language_info": {
   "codemirror_mode": {
    "name": "ipython",
    "version": 3
   },
   "file_extension": ".py",
   "mimetype": "text/x-python",
   "name": "python",
   "nbconvert_exporter": "python",
   "pygments_lexer": "ipython3",
   "version": "3.10.9"
  }
 },
 "nbformat": 4,
 "nbformat_minor": 2
}
